{
 "cells": [
  {
   "cell_type": "code",
   "execution_count": 7,
   "id": "51d5dce0",
   "metadata": {},
   "outputs": [],
   "source": [
    "import json\n",
    "import pandas as pd\n",
    "import os\n",
    "import shutil\n",
    "import os\n",
    "import xml.etree.cElementTree as ET\n",
    "from PIL import Image\n",
    "from math import floor"
   ]
  },
  {
   "cell_type": "code",
   "execution_count": 8,
   "id": "6cad11c1",
   "metadata": {},
   "outputs": [],
   "source": [
    "f = open('kavsir_bboxes.json')\n",
    "labels = json.load(f)"
   ]
  },
  {
   "cell_type": "code",
   "execution_count": 9,
   "id": "4af43cf9",
   "metadata": {},
   "outputs": [],
   "source": [
    "df = pd.DataFrame.from_dict(labels, orient='index').reset_index(level=0).rename(columns ={'index':'image'})"
   ]
  },
  {
   "cell_type": "code",
   "execution_count": 10,
   "id": "db2a66f1",
   "metadata": {},
   "outputs": [],
   "source": [
    "from sklearn.model_selection import train_test_split"
   ]
  },
  {
   "cell_type": "code",
   "execution_count": 11,
   "id": "5a1be2e0",
   "metadata": {},
   "outputs": [],
   "source": [
    "df_train, df_val = train_test_split(df, random_state=10)"
   ]
  },
  {
   "cell_type": "code",
   "execution_count": 12,
   "id": "10fdc5f7",
   "metadata": {},
   "outputs": [],
   "source": [
    "df_train.reset_index(drop = True, inplace = True)\n",
    "df_val.reset_index(drop = True, inplace = True)"
   ]
  },
  {
   "cell_type": "code",
   "execution_count": 15,
   "id": "bd5952ed",
   "metadata": {},
   "outputs": [],
   "source": [
    "def create_root(file_prefix, width, height):\n",
    "    root = ET.Element(\"annotations\")\n",
    "    ET.SubElement(root, \"filename\").text = \"{}.jpg\".format(file_prefix)\n",
    "    ET.SubElement(root, \"folder\").text = \"images\"\n",
    "    size = ET.SubElement(root, \"size\")\n",
    "    ET.SubElement(size, \"width\").text = str(width)\n",
    "    ET.SubElement(size, \"height\").text = str(height)\n",
    "    ET.SubElement(size, \"depth\").text = \"3\"\n",
    "    return root\n",
    "\n",
    "\n",
    "def create_object_annotation(root, voc_labels):\n",
    "    for voc_label in voc_labels:\n",
    "        obj = ET.SubElement(root, \"object\")\n",
    "        ET.SubElement(obj, \"name\").text = \"Polyps\"\n",
    "        ET.SubElement(obj, \"pose\").text = \"Unspecified\"\n",
    "        ET.SubElement(obj, \"truncated\").text = str(0)\n",
    "        ET.SubElement(obj, \"difficult\").text = str(0)\n",
    "        bbox = ET.SubElement(obj, \"bndbox\")\n",
    "        ET.SubElement(bbox, \"xmin\").text = str(voc_label['xmin'])\n",
    "        ET.SubElement(bbox, \"ymin\").text = str(voc_label['ymin'])\n",
    "        ET.SubElement(bbox, \"xmax\").text = str(voc_label['xmax'])\n",
    "        ET.SubElement(bbox, \"ymax\").text = str(voc_label['ymax'])\n",
    "    return root\n",
    "\n",
    "\n",
    "def create_file(file_prefix, width, height, voc_labels,typ):\n",
    "    root = create_root(file_prefix, width, height)\n",
    "    root = create_object_annotation(root, voc_labels)\n",
    "    tree = ET.ElementTree(root)\n",
    "    tree.write(\"{}/{}.xml\".format('images/'+typ+\"/\", file_prefix))"
   ]
  },
  {
   "cell_type": "code",
   "execution_count": 16,
   "id": "8bf839be",
   "metadata": {},
   "outputs": [],
   "source": [
    "main_dir = 'images/'\n",
    "for typ in ['train','test']:\n",
    "    if typ == 'train':\n",
    "        dff = df_train\n",
    "    else:\n",
    "        dff = df_val\n",
    "    for i in dff.index:\n",
    "        shutil.copy(main_dir+df_train.iloc[i,0]+'.jpg',main_dir+typ+'/'+df_train.iloc[i,0]+'.jpg')\n",
    "        create_file(df_train.iloc[i,0], df_train.iloc[i,2], df_train.iloc[i,1], df_train.iloc[i,3], typ)"
   ]
  }
 ],
 "metadata": {
  "kernelspec": {
   "display_name": "Python 3 (ipykernel)",
   "language": "python",
   "name": "python3"
  },
  "language_info": {
   "codemirror_mode": {
    "name": "ipython",
    "version": 3
   },
   "file_extension": ".py",
   "mimetype": "text/x-python",
   "name": "python",
   "nbconvert_exporter": "python",
   "pygments_lexer": "ipython3",
   "version": "3.9.7"
  }
 },
 "nbformat": 4,
 "nbformat_minor": 5
}
